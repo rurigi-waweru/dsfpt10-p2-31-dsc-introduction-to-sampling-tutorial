{
 "cells": [
  {
   "cell_type": "markdown",
   "metadata": {},
   "source": [
    "# Introduction to Sampling \n",
    "\n",
    "## Introduction\n",
    "\n",
    "When working purely with mathematical formulas and theoretical probabilities, we can calculate certain quantities directly. Once we start working with `actual datasets` and `real-world data` collection limitations, we start to need additional statistical techniques in order to make inferences about populations. One of the foundational concepts involved is sampling, and how point estimates from samples help us to understand population statistics."
   ]
  },
  {
   "cell_type": "markdown",
   "metadata": {},
   "source": [
    "## Objectives\n",
    "\n",
    "You will be able to:\n",
    "\n",
    "* Describe how `samples` are able to allow data scientists to gain insights to a `population`."
   ]
  },
  {
   "cell_type": "markdown",
   "metadata": {},
   "source": [
    "## Census vs. Sample\n",
    "\n",
    "Rarely, if ever, are we able to completely survey a **population** of interest. Whatever we are trying to measure — asthma rates, fish populations, daily temperatures, material volumes, manufacturing defects — we are unlikely to have complete information about the system in question.\n",
    "\n",
    "If we performed a complete enumeration of all data points (e.g. testing every person in a population for asthma), that would be a **census**. Similar to the United States Census, our example census would be very expensive, and for some kinds of measurements it would be simply impossible.\n",
    "\n",
    "More realistically, data scientists are typically working with a `**sample**` that represents some subset of the population of interest. From that sample, we can calculate `**point estimates**` for measurements such as the mean. Then using our knowledge of statistical distributions, we are able to make inferences about the true population statistics, without ever having to survey the entire population!\n"
   ]
  },
  {
   "cell_type": "markdown",
   "metadata": {},
   "source": [
    "\n",
    "### Connections to Previous Concepts\n",
    "\n",
    "These concepts tie in to the **set theory concepts** previously introduced:\n",
    "\n",
    "* The *`population`* is equivalent to the *universal set*. Just like a universal set, a population is not necessarily all possible things that have ever existed, it just means all possible things within some defined specification.\n",
    "\n",
    "* The *`sample`* is a *subset* of this population. Every element in the sample is part of the population. In theory we could have a sample that includes every member of the population, but typically when we call something a \"sample\" we mean that it is a *proper subset* of the population (that the population contains additional members that are not part of the sample).\n",
    "\n",
    "Also, recall what we previously learned about **descriptive statistics**:\n",
    "\n",
    "* Statistical measures such as *measures of central tendency* (e.g. mean, median) and *measures of spread* (e.g. absolute deviation, standard deviation) are used to describe the *distribution* of a given collection of data points. We also use visualizations such as *histograms* and `box plots` to understand the shape of distributions.\n",
    "\n",
    "* These descriptive statistics can apply to populations or samples. When they are applied to populations they are called *population statistics*, and when they are applied to samples they are called *point estimates*.\n",
    "\n",
    "* In mathematical notation, we often use different symbols for a given statistic depending on whether it applies to the `population` or a `sample`. Some examples of those differences are listed below:\n",
    "\n",
    "  * Number\n",
    "    * $N$ is the number of individuals/cases in a population\n",
    "    * $n$ is the number of individuals/cases in sample\n",
    "\n",
    "  * Mean\n",
    "    * $\\mu$ is the population mean (pronounced \"mu\")\n",
    "    * $\\bar{x}$ is the sample mean (pronounced \"x bar\")\n",
    "\n",
    "  * Standard Deviation\n",
    "    * $\\sigma$ is the population standard deviation (pronounced \"sigma\")\n",
    "    * $s$ is the sample standard deviation"
   ]
  },
  {
   "cell_type": "markdown",
   "metadata": {},
   "source": [
    "## Case Study: Estimating Mean Age\n",
    "\n",
    "In the following example, let's say we are trying to estimate the **mean age of a population**.\n",
    "\n",
    "The population we'll use is quite small: people who were on board the `Titanic (a classic \"toy dataset\")`.\n",
    "\n",
    "***Note:*** In this case, we actually do have data about the entire population, since it includes fewer than 1000 people. If you have access to a complete census like this, then you don't actually need to use statistical techniques to make statements about population parameters. But we are going to use this as an example because it will allow us to compare the mean age point estimates to the true population mean age.\n",
    "\n",
    "Let's start by importing the dataset."
   ]
  },
  {
   "cell_type": "code",
   "execution_count": 71,
   "metadata": {},
   "outputs": [],
   "source": [
    "# necessary modules\n",
    "import pandas as pd\n",
    "import numpy as np"
   ]
  },
  {
   "cell_type": "code",
   "execution_count": 72,
   "metadata": {},
   "outputs": [
    {
     "data": {
      "text/html": [
       "<div>\n",
       "<style scoped>\n",
       "    .dataframe tbody tr th:only-of-type {\n",
       "        vertical-align: middle;\n",
       "    }\n",
       "\n",
       "    .dataframe tbody tr th {\n",
       "        vertical-align: top;\n",
       "    }\n",
       "\n",
       "    .dataframe thead th {\n",
       "        text-align: right;\n",
       "    }\n",
       "</style>\n",
       "<table border=\"1\" class=\"dataframe\">\n",
       "  <thead>\n",
       "    <tr style=\"text-align: right;\">\n",
       "      <th></th>\n",
       "      <th>PassengerId</th>\n",
       "      <th>Survived</th>\n",
       "      <th>Pclass</th>\n",
       "      <th>Name</th>\n",
       "      <th>Sex</th>\n",
       "      <th>Age</th>\n",
       "      <th>SibSp</th>\n",
       "      <th>Parch</th>\n",
       "      <th>Ticket</th>\n",
       "      <th>Fare</th>\n",
       "      <th>Cabin</th>\n",
       "      <th>Embarked</th>\n",
       "    </tr>\n",
       "  </thead>\n",
       "  <tbody>\n",
       "    <tr>\n",
       "      <th>0</th>\n",
       "      <td>1</td>\n",
       "      <td>0</td>\n",
       "      <td>3</td>\n",
       "      <td>Braund, Mr. Owen Harris</td>\n",
       "      <td>male</td>\n",
       "      <td>22.0</td>\n",
       "      <td>1</td>\n",
       "      <td>0</td>\n",
       "      <td>A/5 21171</td>\n",
       "      <td>7.2500</td>\n",
       "      <td>NaN</td>\n",
       "      <td>S</td>\n",
       "    </tr>\n",
       "    <tr>\n",
       "      <th>1</th>\n",
       "      <td>2</td>\n",
       "      <td>1</td>\n",
       "      <td>1</td>\n",
       "      <td>Cumings, Mrs. John Bradley (Florence Briggs Th...</td>\n",
       "      <td>female</td>\n",
       "      <td>38.0</td>\n",
       "      <td>1</td>\n",
       "      <td>0</td>\n",
       "      <td>PC 17599</td>\n",
       "      <td>71.2833</td>\n",
       "      <td>C85</td>\n",
       "      <td>C</td>\n",
       "    </tr>\n",
       "    <tr>\n",
       "      <th>2</th>\n",
       "      <td>3</td>\n",
       "      <td>1</td>\n",
       "      <td>3</td>\n",
       "      <td>Heikkinen, Miss. Laina</td>\n",
       "      <td>female</td>\n",
       "      <td>26.0</td>\n",
       "      <td>0</td>\n",
       "      <td>0</td>\n",
       "      <td>STON/O2. 3101282</td>\n",
       "      <td>7.9250</td>\n",
       "      <td>NaN</td>\n",
       "      <td>S</td>\n",
       "    </tr>\n",
       "    <tr>\n",
       "      <th>3</th>\n",
       "      <td>4</td>\n",
       "      <td>1</td>\n",
       "      <td>1</td>\n",
       "      <td>Futrelle, Mrs. Jacques Heath (Lily May Peel)</td>\n",
       "      <td>female</td>\n",
       "      <td>35.0</td>\n",
       "      <td>1</td>\n",
       "      <td>0</td>\n",
       "      <td>113803</td>\n",
       "      <td>53.1000</td>\n",
       "      <td>C123</td>\n",
       "      <td>S</td>\n",
       "    </tr>\n",
       "    <tr>\n",
       "      <th>4</th>\n",
       "      <td>5</td>\n",
       "      <td>0</td>\n",
       "      <td>3</td>\n",
       "      <td>Allen, Mr. William Henry</td>\n",
       "      <td>male</td>\n",
       "      <td>35.0</td>\n",
       "      <td>0</td>\n",
       "      <td>0</td>\n",
       "      <td>373450</td>\n",
       "      <td>8.0500</td>\n",
       "      <td>NaN</td>\n",
       "      <td>S</td>\n",
       "    </tr>\n",
       "  </tbody>\n",
       "</table>\n",
       "</div>"
      ],
      "text/plain": [
       "   PassengerId  Survived Pclass  \\\n",
       "0            1         0      3   \n",
       "1            2         1      1   \n",
       "2            3         1      3   \n",
       "3            4         1      1   \n",
       "4            5         0      3   \n",
       "\n",
       "                                                Name     Sex   Age  SibSp  \\\n",
       "0                            Braund, Mr. Owen Harris    male  22.0      1   \n",
       "1  Cumings, Mrs. John Bradley (Florence Briggs Th...  female  38.0      1   \n",
       "2                             Heikkinen, Miss. Laina  female  26.0      0   \n",
       "3       Futrelle, Mrs. Jacques Heath (Lily May Peel)  female  35.0      1   \n",
       "4                           Allen, Mr. William Henry    male  35.0      0   \n",
       "\n",
       "   Parch            Ticket     Fare Cabin Embarked  \n",
       "0      0         A/5 21171   7.2500   NaN        S  \n",
       "1      0          PC 17599  71.2833   C85        C  \n",
       "2      0  STON/O2. 3101282   7.9250   NaN        S  \n",
       "3      0            113803  53.1000  C123        S  \n",
       "4      0            373450   8.0500   NaN        S  "
      ]
     },
     "execution_count": 72,
     "metadata": {},
     "output_type": "execute_result"
    }
   ],
   "source": [
    "# importing dataset\n",
    "df = pd.read_csv('titanic.csv', index_col=0)\n",
    "# display dataset\n",
    "df.head()"
   ]
  },
  {
   "cell_type": "code",
   "execution_count": 87,
   "metadata": {},
   "outputs": [
    {
     "name": "stdout",
     "output_type": "stream",
     "text": [
      "The shape of the datset: (891, 12)\n"
     ]
    }
   ],
   "source": [
    "# size of dataset\n",
    "print(f\"The shape of the datset: {df.shape}\")"
   ]
  },
  {
   "cell_type": "markdown",
   "metadata": {},
   "source": [
    "### Finding the Population Statistic $\\mu$\n",
    "\n",
    "Again, we actually have a `census` of the entire population, so if we want to know the mean age for the population, we can simply calculate that directly:"
   ]
  },
  {
   "cell_type": "code",
   "execution_count": 93,
   "metadata": {},
   "outputs": [
    {
     "name": "stdout",
     "output_type": "stream",
     "text": [
      "Inference:\n",
      "----------\n",
      "The mean of the entire population, i.e. 891, \n",
      "people in the dateset is 29.70 years.\n"
     ]
    }
   ],
   "source": [
    "# mean of the age column\n",
    "population_mean = df.Age.mean()\n",
    "# display mean of the age column\n",
    "print(f\"\"\"Inference:\n",
    "----------\n",
    "The mean of the entire population, i.e. {df.shape[0]}, \n",
    "people in the dateset is {population_mean:.2f} years.\"\"\")"
   ]
  },
  {
   "cell_type": "markdown",
   "metadata": {},
   "source": [
    "### $\\bar{x}$ for One Sample\n",
    "\n",
    "Let's see what happens when we take a `sample` in order to estimate this `population` parameter. \n",
    "(Again remember, this is called `a point estimate`!)\n",
    "\n",
    "This represents what we might reasonably have in a real-world data collection context."
   ]
  },
  {
   "cell_type": "code",
   "execution_count": null,
   "metadata": {},
   "outputs": [
    {
     "name": "stdout",
     "output_type": "stream",
     "text": [
      "Inference:\n",
      "----------\n",
      "The mean of the sample of 50 people is 27.79 years.\n",
      "\n"
     ]
    }
   ],
   "source": [
    "# Take a sample of 50 people\n",
    "sample = df.sample(n=50, random_state=22)\n",
    "# Calculate the sample mean\n",
    "sample_mean = sample.Age.mean()\n",
    "# display sample mean\n",
    "print(f\"\"\"Inference:\n",
    "----------\n",
    "The mean of the sample of 50 people is {sample_mean:.2f} years.\"\"\")"
   ]
  },
  {
   "cell_type": "markdown",
   "metadata": {},
   "source": [
    "It's not a bad estimate, even though it's not exact. From here we can start to ask many questions related to how confident we are in this estimate. A first simple approach is to quantify our estimate. We'll first look at the percent error:"
   ]
  },
  {
   "cell_type": "code",
   "execution_count": 98,
   "metadata": {},
   "outputs": [
    {
     "name": "stdout",
     "output_type": "stream",
     "text": [
      "The percent error is 6.42%.\n"
     ]
    }
   ],
   "source": [
    "# Find the difference between the sample and population means\n",
    "err = np.abs(sample_mean - population_mean)\n",
    "# Divide by the population mean to find a percent error\n",
    "per_err = err / population_mean\n",
    "# display percent error\n",
    "print(f\"The percent error is {per_err:.2%}.\")"
   ]
  },
  {
   "cell_type": "markdown",
   "metadata": {},
   "source": [
    "As it stands, our estimate is close but about 6% off of the actual figure. We might start to wonder whether this is a normal or expected error for our sample to be off. Can we say that a sample of 50 from a population of roughly 900 will always produce a point estimate this accurate?"
   ]
  },
  {
   "cell_type": "markdown",
   "metadata": {},
   "source": [
    "### $\\bar{x}$ for Five Samples\n",
    "\n",
    "Now let's simulate five separate data collection processes.\n",
    "\n",
    "Again, note that this is not realistically how you would collect and analyze data — typically you only have a chance to sample once! But this is demonstrating what it might look like if you repeated your experiment five times, each time randomly sampling from the same population."
   ]
  },
  {
   "cell_type": "code",
   "execution_count": 104,
   "metadata": {},
   "outputs": [
    {
     "name": "stdout",
     "output_type": "stream",
     "text": [
      "five_sample_means:\n",
      "==================\n",
      "Sample 1: 27.50 years\n",
      "Sample 2: 28.30 years\n",
      "Sample 3: 26.84 years\n",
      "Sample 4: 31.75 years\n",
      "Sample 5: 28.57 years\n"
     ]
    }
   ],
   "source": [
    "# Create an empty list to store the sample means \n",
    "five_sample_means = []\n",
    "# Loop 5 times\n",
    "for i in range(5):\n",
    "    sample = df.sample(n=50, random_state=i+100)\n",
    "    five_sample_means.append(sample.Age.mean())\n",
    "# display five_sample_means\n",
    "print(\"five_sample_means:\")\n",
    "print(\"==================\")\n",
    "# Display five_sample_means with their indices     \n",
    "for index, mean in enumerate(five_sample_means):\n",
    "    print(f\"Sample {index + 1}: {mean:.2f} years\")"
   ]
  },
  {
   "cell_type": "markdown",
   "metadata": {},
   "source": [
    "And we can calculate the errors again:"
   ]
  },
  {
   "cell_type": "code",
   "execution_count": 106,
   "metadata": {},
   "outputs": [
    {
     "name": "stdout",
     "output_type": "stream",
     "text": [
      "FIVE_SAMPLE_ERRORS ARE:\n",
      "-----------------------\n",
      "The perc error for sample 1: 0.07 %\n",
      "The perc error for sample 2: 0.05 %\n",
      "The perc error for sample 3: 0.10 %\n",
      "The perc error for sample 4: 0.07 %\n",
      "The perc error for sample 5: 0.04 %\n"
     ]
    }
   ],
   "source": [
    "# Calculate the error for each sample mean\n",
    "five_sample_errors = [np.abs(sample_mean-population_mean)/population_mean \n",
    "                      for sample_mean in five_sample_means]\n",
    "# Display five_sample_errors with each error formatted to 2 decimal places\n",
    "print(\"five_sample_errors are:\".upper())\n",
    "print(\"-----------------------\")\n",
    "for index, error in enumerate(five_sample_errors):\n",
    "    print(f\"The perc error for sample {index + 1}: {error:.2f} %\")\n",
    "    # print(f\"The perc error for sample {error:.2f} %\")"
   ]
  },
  {
   "cell_type": "markdown",
   "metadata": {},
   "source": [
    "We can visualize this as a bar chart, where each x tick is a different sample:"
   ]
  },
  {
   "cell_type": "code",
   "execution_count": 79,
   "metadata": {},
   "outputs": [],
   "source": [
    "# importing mathplotlib and seaborn\n",
    "import matplotlib.pyplot as plt\n",
    "import seaborn as sns\n",
    "# Set the style of the visualization\n",
    "from matplotlib.lines import Line2D\n",
    "%matplotlib inline"
   ]
  },
  {
   "cell_type": "code",
   "execution_count": 80,
   "metadata": {},
   "outputs": [
    {
     "data": {
      "image/png": "[encoded data removed]",
      "text/plain": [
       "<Figure size 720x576 with 1 Axes>"
      ]
     },
     "metadata": {
      "needs_background": "light"
     },
     "output_type": "display_data"
    }
   ],
   "source": [
    "# Create a bar plot of the five_sample_means\n",
    "x_labels = [f\"Sample {x}\" for x in range(1, 6)]\n",
    "# setting the figure size\n",
    "fig, ax = plt.subplots(figsize=(10,8))\n",
    "# displaying  the bar plots\n",
    "ax.bar(x_labels, five_sample_means)\n",
    "# setting the x-axis label\n",
    "ax.set_ylabel(\"Mean Age\", color=\"blue\", fontsize=\"large\")  # Corrected here\n",
    "# setting the marker-line for the plot\n",
    "ax.axhline(y=population_mean, \n",
    "           color=\"red\", \n",
    "           lw=5, \n",
    "           ls=\"--\"\n",
    "           )\n",
    "# setting the legend of the plot\n",
    "ax.legend(\n",
    "    handles=[Line2D([0],[0], color=\"red\", lw=5, ls=\"--\")],\n",
    "    labels=[\"True Population Mean\"],\n",
    "    fontsize=\"large\"\n",
    ");"
   ]
  },
  {
   "cell_type": "markdown",
   "metadata": {},
   "source": [
    "Now we are starting to get a better sense of how each sample estimate is likely to differ from the true population parameter."
   ]
  },
  {
   "cell_type": "markdown",
   "metadata": {},
   "source": [
    "### $\\bar{x}$ for 10,000 Samples\n",
    "\n",
    "Now let's see what happens if we take many more samples:"
   ]
  },
  {
   "cell_type": "code",
   "execution_count": 81,
   "metadata": {},
   "outputs": [
    {
     "data": {
      "text/plain": [
       "10000"
      ]
     },
     "execution_count": 81,
     "metadata": {},
     "output_type": "execute_result"
    }
   ],
   "source": [
    "# creating a list to store the sample means\n",
    "sample_means = []\n",
    "# Loop 10,000 times\n",
    "for i in range(10**4):\n",
    "    sample = df.sample(n=50, random_state=i)\n",
    "    sample_means.append(sample.Age.mean())\n",
    "# displaying the number sample_means\n",
    "len(sample_means)"
   ]
  },
  {
   "cell_type": "markdown",
   "metadata": {},
   "source": [
    "Displaying this as a `bar graph` would be pretty unreadable (showing 10,000 ticks along the x axis) so let's use a `histogram` instead. This will bin the samples based on their mean ages and show the overall distribution of mean ages, rather than a single bar for each sample."
   ]
  },
  {
   "cell_type": "code",
   "execution_count": 113,
   "metadata": {},
   "outputs": [
    {
     "data": {
      "image/png": "[encoded data removed]",
      "text/plain": [
       "<Figure size 720x576 with 1 Axes>"
      ]
     },
     "metadata": {
      "needs_background": "light"
     },
     "output_type": "display_data"
    }
   ],
   "source": [
    "# creating a plot figur\n",
    "fig, ax = plt.subplots(figsize=(10,8))\n",
    "# displaying the histogram of the sample_means\n",
    "ax.hist(sample_means, bins=\"auto\", color=\"skyblue\", edgecolor=\"black\")\n",
    "# setting the title\n",
    "ax.set_title(\"Sample Means Distribution with Population Mean as Reference\", \n",
    "             fontsize=\"x-large\",\n",
    "             fontweight=\"bold\")\n",
    "# setting the x-axis label\n",
    "ax.set_xlabel(\"Mean Age\")\n",
    "# setting the y-axis label\n",
    "ax.set_ylabel(\"Count of Samples\")\n",
    "# setting the marker-line for the plot\n",
    "ax.axvline(x=population_mean, color=\"red\", linewidth=5, linestyle=\"--\")\n",
    "# setting the legend of the plot\n",
    "ax.legend(\n",
    "    handles=[Line2D(\n",
    "        [0],[0],\n",
    "        color=\"white\",\n",
    "        marker=\"|\",\n",
    "        markersize=15,\n",
    "        markeredgewidth=1.5,\n",
    "        markeredgecolor=\"red\"\n",
    "    )],\n",
    "    labels=[\"True Population Mean\"], fontsize=\"large\");"
   ]
  },
  {
   "cell_type": "markdown",
   "metadata": {},
   "source": [
    "### Average $\\bar{x}$ vs. $\\mu$\n",
    "\n",
    "Interesting! Our distribution of sample means is approximately centered around the true population mean. Let's take a look at the mean of our sample means:"
   ]
  },
  {
   "cell_type": "code",
   "execution_count": 83,
   "metadata": {},
   "outputs": [
    {
     "name": "stdout",
     "output_type": "stream",
     "text": [
      "The average 29.68 years.\n"
     ]
    }
   ],
   "source": [
    "# Calculate the mean of the sample_means\n",
    "ten_thousand_samples_mean = np.mean(sample_means)\n",
    "# display the mean of the sample_means\n",
    "print(f\"The average {ten_thousand_samples_mean:.2f} years.\")"
   ]
  },
  {
   "cell_type": "markdown",
   "metadata": {},
   "source": [
    "Recall that this is our true population statistic $\\mu$:"
   ]
  },
  {
   "cell_type": "code",
   "execution_count": 84,
   "metadata": {},
   "outputs": [
    {
     "name": "stdout",
     "output_type": "stream",
     "text": [
      "The average population mean is 29.70 years.\n"
     ]
    }
   ],
   "source": [
    "# display the average populate mean\n",
    "print(f\"The average population mean is {population_mean:.2f} years.\")"
   ]
  },
  {
   "cell_type": "markdown",
   "metadata": {},
   "source": [
    "Those are pretty close. How close exactly?"
   ]
  },
  {
   "cell_type": "code",
   "execution_count": 85,
   "metadata": {},
   "outputs": [
    {
     "name": "stdout",
     "output_type": "stream",
     "text": [
      "The accuracy of the sample mean is 99.93%.\n"
     ]
    }
   ],
   "source": [
    "# Calculate the error of 1000 items the sample mean\n",
    "err = np.abs(ten_thousand_samples_mean - population_mean) / population_mean\n",
    "# display the accuracy\n",
    "accuracy = 1 - err\n",
    "# display the accuracy\n",
    "print(f\"The accuracy of the sample mean is {accuracy:.2%}.\")"
   ]
  },
  {
   "cell_type": "markdown",
   "metadata": {},
   "source": [
    "Wow! Look at that! The mean of our sample means is extremely close to the actual mean of the population! The mean of means of this simulation shows an accuracy of 99.9%. This will prove useful as we dive into the relationship between samples and distributions."
   ]
  },
  {
   "cell_type": "markdown",
   "metadata": {},
   "source": [
    "## Summary\n",
    "\n",
    "\n",
    "We've begun to investigate and think about how we can gain knowledge about a population using sampling techniques. From there, we further explored how the estimates provided by samples can themselves be analyzed as a mathematical distribution. **These observations serve as the intuition behind confidence intervals.** In future sections, we'll talk about point estimators (including parameters other than the mean such as standard deviation) and confidence intervals in more detail!"
   ]
  }
 ],
 "metadata": {
  "kernelspec": {
   "display_name": "learn-env",
   "language": "python",
   "name": "python3"
  },
  "language_info": {
   "codemirror_mode": {
    "name": "ipython",
    "version": 3
   },
   "file_extension": ".py",
   "mimetype": "text/x-python",
   "name": "python",
   "nbconvert_exporter": "python",
   "pygments_lexer": "ipython3",
   "version": "3.8.5"
  },
  "toc": {
   "base_numbering": 1,
   "nav_menu": {},
   "number_sections": true,
   "sideBar": true,
   "skip_h1_title": false,
   "title_cell": "Table of Contents",
   "title_sidebar": "Contents",
   "toc_cell": false,
   "toc_position": {},
   "toc_section_display": true,
   "toc_window_display": false
  }
 },
 "nbformat": 4,
 "nbformat_minor": 2
}
